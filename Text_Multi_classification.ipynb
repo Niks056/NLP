{
 "cells": [
  {
   "cell_type": "code",
   "execution_count": 2,
   "metadata": {},
   "outputs": [],
   "source": [
    "import pandas as pd\n",
    "import numpy as np"
   ]
  },
  {
   "cell_type": "code",
   "execution_count": 3,
   "metadata": {},
   "outputs": [],
   "source": [
    "np.random.seed(0)\n",
    "data = pd.read_excel('CSAT_final_data_for_category.xlsx')\n",
    "data.columns = ['label', 'comment_text']\n",
    "data['label']=data['label'].str.lower()\n",
    "data['comment_text']=data['comment_text'].str.lower()\n",
    "data.dropna(inplace=True)"
   ]
  },
  {
   "cell_type": "code",
   "execution_count": 4,
   "metadata": {},
   "outputs": [
    {
     "data": {
      "text/html": [
       "<div>\n",
       "<table border=\"1\" class=\"dataframe\">\n",
       "  <thead>\n",
       "    <tr style=\"text-align: right;\">\n",
       "      <th></th>\n",
       "      <th>label</th>\n",
       "      <th>comment_text</th>\n",
       "    </tr>\n",
       "  </thead>\n",
       "  <tbody>\n",
       "    <tr>\n",
       "      <th>0</th>\n",
       "      <td>account</td>\n",
       "      <td>your site told me my address was an invalid ad...</td>\n",
       "    </tr>\n",
       "    <tr>\n",
       "      <th>1</th>\n",
       "      <td>checkout</td>\n",
       "      <td>it told me my address is not valid.guess you d...</td>\n",
       "    </tr>\n",
       "    <tr>\n",
       "      <th>2</th>\n",
       "      <td>business ops / customer service &amp; stores</td>\n",
       "      <td>it's the most poorly designed website i have e...</td>\n",
       "    </tr>\n",
       "  </tbody>\n",
       "</table>\n",
       "</div>"
      ],
      "text/plain": [
       "                                      label  \\\n",
       "0                                   account   \n",
       "1                                  checkout   \n",
       "2  business ops / customer service & stores   \n",
       "\n",
       "                                        comment_text  \n",
       "0  your site told me my address was an invalid ad...  \n",
       "1  it told me my address is not valid.guess you d...  \n",
       "2  it's the most poorly designed website i have e...  "
      ]
     },
     "execution_count": 4,
     "metadata": {},
     "output_type": "execute_result"
    }
   ],
   "source": [
    "data.head(3)"
   ]
  },
  {
   "cell_type": "code",
   "execution_count": 5,
   "metadata": {},
   "outputs": [
    {
     "data": {
      "text/plain": [
       "other                                       3048\n",
       "business ops / customer service & stores    2227\n",
       "search & navigation                         1446\n",
       "browse                                      1398\n",
       "checkout                                     969\n",
       "inventory                                    966\n",
       "post purchase                                631\n",
       "account                                      577\n",
       "assortment                                   147\n",
       "coupons & rewards                             80\n",
       "other                                         38\n",
       "positive promoters                            13\n",
       "pricing                                        2\n",
       "Name: label, dtype: int64"
      ]
     },
     "execution_count": 5,
     "metadata": {},
     "output_type": "execute_result"
    }
   ],
   "source": [
    "data.label.value_counts()"
   ]
  },
  {
   "cell_type": "code",
   "execution_count": 6,
   "metadata": {},
   "outputs": [],
   "source": [
    "## Since coupons , others, promotors and pricing are very few in count , we will merge it into other category\n",
    "data['label'] = np.where(data.label == 'coupons & rewards','other', data.label)"
   ]
  },
  {
   "cell_type": "code",
   "execution_count": 7,
   "metadata": {},
   "outputs": [],
   "source": [
    "data['label'] = np.where(data.label == 'positive promoters','other', data.label)\n",
    "data['label'] = np.where(data.label == 'pricing','other', data.label)\n",
    "data['label'] = np.where(data.label == 'other ','other', data.label)"
   ]
  },
  {
   "cell_type": "code",
   "execution_count": 8,
   "metadata": {},
   "outputs": [
    {
     "data": {
      "text/plain": [
       "other                                       3181\n",
       "business ops / customer service & stores    2227\n",
       "search & navigation                         1446\n",
       "browse                                      1398\n",
       "checkout                                     969\n",
       "inventory                                    966\n",
       "post purchase                                631\n",
       "account                                      577\n",
       "assortment                                   147\n",
       "Name: label, dtype: int64"
      ]
     },
     "execution_count": 8,
     "metadata": {},
     "output_type": "execute_result"
    }
   ],
   "source": [
    "data.label.value_counts()"
   ]
  },
  {
   "cell_type": "code",
   "execution_count": 12,
   "metadata": {},
   "outputs": [],
   "source": [
    "from nltk.corpus import stopwords\n",
    "from nltk.tokenize import word_tokenize, sent_tokenize\n",
    "from nltk.stem.wordnet import WordNetLemmatizer\n",
    "import re"
   ]
  },
  {
   "cell_type": "code",
   "execution_count": 13,
   "metadata": {},
   "outputs": [],
   "source": [
    "import re\n",
    "def preprocessor(text):\n",
    "    text = re.sub('<[^>]*>', '', text)\n",
    "    emoticons = re.findall('(?::|;|=)(?:-)?(?:\\)|\\(|D|P)', text)\n",
    "    text = re.sub('[\\W]+', ' ', text.lower()) +\\\n",
    "        ' '.join(emoticons).replace('-', '')\n",
    "    return text"
   ]
  },
  {
   "cell_type": "code",
   "execution_count": 14,
   "metadata": {},
   "outputs": [],
   "source": [
    "# apply the preprocess function to all reviews\n",
    "data['comment_text'] = data['comment_text'].apply(preprocessor)"
   ]
  },
  {
   "cell_type": "code",
   "execution_count": 11,
   "metadata": {},
   "outputs": [
    {
     "data": {
      "text/html": [
       "<div>\n",
       "<table border=\"1\" class=\"dataframe\">\n",
       "  <thead>\n",
       "    <tr style=\"text-align: right;\">\n",
       "      <th></th>\n",
       "      <th>label</th>\n",
       "      <th>comment_text</th>\n",
       "    </tr>\n",
       "  </thead>\n",
       "  <tbody>\n",
       "    <tr>\n",
       "      <th>0</th>\n",
       "      <td>account</td>\n",
       "      <td>your site told me my address was an invalid ad...</td>\n",
       "    </tr>\n",
       "    <tr>\n",
       "      <th>1</th>\n",
       "      <td>checkout</td>\n",
       "      <td>it told me my address is not valid guess you d...</td>\n",
       "    </tr>\n",
       "    <tr>\n",
       "      <th>2</th>\n",
       "      <td>business ops / customer service &amp; stores</td>\n",
       "      <td>it s the most poorly designed website i have e...</td>\n",
       "    </tr>\n",
       "  </tbody>\n",
       "</table>\n",
       "</div>"
      ],
      "text/plain": [
       "                                      label  \\\n",
       "0                                   account   \n",
       "1                                  checkout   \n",
       "2  business ops / customer service & stores   \n",
       "\n",
       "                                        comment_text  \n",
       "0  your site told me my address was an invalid ad...  \n",
       "1  it told me my address is not valid guess you d...  \n",
       "2  it s the most poorly designed website i have e...  "
      ]
     },
     "execution_count": 11,
     "metadata": {},
     "output_type": "execute_result"
    }
   ],
   "source": [
    "data.head(3)"
   ]
  },
  {
   "cell_type": "code",
   "execution_count": 15,
   "metadata": {},
   "outputs": [],
   "source": [
    "#import and instantiate Count Vectorizer\n",
    "from sklearn.feature_extraction.text import CountVectorizer\n",
    "vect=CountVectorizer()"
   ]
  },
  {
   "cell_type": "code",
   "execution_count": 16,
   "metadata": {},
   "outputs": [
    {
     "name": "stdout",
     "output_type": "stream",
     "text": [
      "(11542,)\n",
      "(11542,)\n"
     ]
    }
   ],
   "source": [
    "#Defining X and y variables\n",
    "X=data.comment_text\n",
    "y=data.label\n",
    "print (X.shape)\n",
    "print (y.shape)"
   ]
  },
  {
   "cell_type": "code",
   "execution_count": 17,
   "metadata": {},
   "outputs": [],
   "source": [
    "#Splitting X, y into training and test  datasets\n",
    "from sklearn.model_selection import train_test_split\n",
    "X_train,X_test,y_train,y_test=train_test_split(X,y,random_state=1)"
   ]
  },
  {
   "cell_type": "code",
   "execution_count": 18,
   "metadata": {},
   "outputs": [],
   "source": [
    "#Learning the vocab of entire data\n",
    "vect.fit(X)\n",
    "#transforming the vocab into Document term matrix\n",
    "X_train_dtm=vect.transform(X_train)"
   ]
  },
  {
   "cell_type": "code",
   "execution_count": 19,
   "metadata": {},
   "outputs": [
    {
     "data": {
      "text/plain": [
       "(8656, 13149)"
      ]
     },
     "execution_count": 19,
     "metadata": {},
     "output_type": "execute_result"
    }
   ],
   "source": [
    "#Examine the Document Term Matrix\n",
    "X_train_dtm\n",
    "X_train_dtm.shape"
   ]
  },
  {
   "cell_type": "code",
   "execution_count": 20,
   "metadata": {},
   "outputs": [
    {
     "data": {
      "text/plain": [
       "(2886, 13149)"
      ]
     },
     "execution_count": 20,
     "metadata": {},
     "output_type": "execute_result"
    }
   ],
   "source": [
    "#Transforming and creating DTM of test data\n",
    "X_test_dtm=vect.transform(X_test)\n",
    "X_test_dtm.shape"
   ]
  },
  {
   "cell_type": "code",
   "execution_count": 21,
   "metadata": {},
   "outputs": [],
   "source": [
    "#Importing and instantiating the NB classifier\n",
    "from sklearn.naive_bayes import MultinomialNB\n",
    "nb=MultinomialNB()"
   ]
  },
  {
   "cell_type": "code",
   "execution_count": 22,
   "metadata": {},
   "outputs": [
    {
     "name": "stdout",
     "output_type": "stream",
     "text": [
      "CPU times: user 40 ms, sys: 0 ns, total: 40 ms\n",
      "Wall time: 38.5 ms\n"
     ]
    },
    {
     "data": {
      "text/plain": [
       "MultinomialNB(alpha=1.0, class_prior=None, fit_prior=True)"
      ]
     },
     "execution_count": 22,
     "metadata": {},
     "output_type": "execute_result"
    }
   ],
   "source": [
    "#training the model using train data DTM\n",
    "%time nb.fit(X_train_dtm,y_train)"
   ]
  },
  {
   "cell_type": "code",
   "execution_count": 23,
   "metadata": {},
   "outputs": [],
   "source": [
    "#making predictions on test data\n",
    "y_pred_class=nb.predict(X_test_dtm)"
   ]
  },
  {
   "cell_type": "code",
   "execution_count": 24,
   "metadata": {},
   "outputs": [
    {
     "name": "stdout",
     "output_type": "stream",
     "text": [
      "[[ 25   0   3  17   6   2  86   3   4]\n",
      " [  0   1   3  13   1   1  13   0   5]\n",
      " [  1   0 195  29  10   5  96   2  16]\n",
      " [  3   0  18 339  10  13 138   6  55]\n",
      " [  2   1  20  30  65   4 118   1  14]\n",
      " [  0   0  10  38   1 115  55   0  21]\n",
      " [  7   3  62 164  20  24 418  14  70]\n",
      " [  0   0   1  37   4   3  77  31   3]\n",
      " [  2   0  23  57   2   7  90   1 152]]\n"
     ]
    }
   ],
   "source": [
    "#Examine accuracy of predictions \n",
    "from sklearn.metrics import confusion_matrix,classification_report\n",
    "print (confusion_matrix(y_test,y_pred_class))\n"
   ]
  },
  {
   "cell_type": "code",
   "execution_count": 25,
   "metadata": {},
   "outputs": [
    {
     "name": "stdout",
     "output_type": "stream",
     "text": [
      "                                          precision    recall  f1-score   support\n",
      "\n",
      "                                 account       0.62      0.17      0.27       146\n",
      "                              assortment       0.20      0.03      0.05        37\n",
      "                                 browse        0.58      0.55      0.57       354\n",
      "business ops / customer service & stores       0.47      0.58      0.52       582\n",
      "                                checkout       0.55      0.25      0.35       255\n",
      "                               inventory       0.66      0.48      0.56       240\n",
      "                                   other       0.38      0.53      0.45       782\n",
      "                           post purchase       0.53      0.20      0.29       156\n",
      "                     search & navigation       0.45      0.46      0.45       334\n",
      "\n",
      "                             avg / total       0.49      0.46      0.45      2886\n",
      "\n"
     ]
    }
   ],
   "source": [
    "print (classification_report(y_test,y_pred_class))"
   ]
  },
  {
   "cell_type": "code",
   "execution_count": null,
   "metadata": {},
   "outputs": [],
   "source": []
  }
 ],
 "metadata": {
  "kernelspec": {
   "display_name": "Python 3",
   "language": "python",
   "name": "python3"
  },
  "language_info": {
   "codemirror_mode": {
    "name": "ipython",
    "version": 3
   },
   "file_extension": ".py",
   "mimetype": "text/x-python",
   "name": "python",
   "nbconvert_exporter": "python",
   "pygments_lexer": "ipython3",
   "version": "3.7.4"
  }
 },
 "nbformat": 4,
 "nbformat_minor": 2
}
