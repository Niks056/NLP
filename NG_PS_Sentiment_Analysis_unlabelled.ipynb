{
 "cells": [
  {
   "cell_type": "markdown",
   "metadata": {
    "colab_type": "text",
    "id": "1o8rRUc9rRkc"
   },
   "source": [
    "# Sentiment Analysis - Unlabelled Data "
   ]
  },
  {
   "cell_type": "code",
   "execution_count": null,
   "metadata": {
    "colab": {},
    "colab_type": "code",
    "id": "BfKewO3urRke"
   },
   "outputs": [],
   "source": [
    "#Importing required libraries\n",
    "import pandas as pd\n",
    "import numpy as np\n",
    "import matplotlib.pyplot as plt\n",
    "%matplotlib inline\n",
    "import seaborn as sns\n",
    "import re\n",
    "import os\n",
    "import sys\n",
    "reload(sys)\n",
    "sys.setdefaultencoding('utf8')\n",
    "sns.set(rc={'figure.figsize':(16,8)})\n",
    "pd.set_option('display.max_columns',200)\n",
    "import ast\n",
    "plt.style.use('fivethirtyeight')\n",
    "cp = sns.color_palette()"
   ]
  },
  {
   "cell_type": "code",
   "execution_count": null,
   "metadata": {
    "colab": {},
    "colab_type": "code",
    "id": "gSKwOaLprRkn"
   },
   "outputs": [],
   "source": [
    "#Loading the dataset\n",
    "df=pd.read_csv('apr.csv')"
   ]
  },
  {
   "cell_type": "code",
   "execution_count": null,
   "metadata": {
    "colab": {},
    "colab_type": "code",
    "id": "VEdNnKIyrRku",
    "outputId": "34195511-549e-40d4-f160-9513e32f4424"
   },
   "outputs": [
    {
     "data": {
      "text/plain": [
       "(2861, 2)"
      ]
     },
     "execution_count": 73,
     "metadata": {
      "tags": []
     },
     "output_type": "execute_result"
    }
   ],
   "source": [
    "#Examine the number of tweets\n",
    "df.shape"
   ]
  },
  {
   "cell_type": "code",
   "execution_count": null,
   "metadata": {
    "colab": {},
    "colab_type": "code",
    "id": "CsdVY9yjrRkz",
    "outputId": "87ccc2f8-3218-43b3-ceb0-2d1e8217058f"
   },
   "outputs": [
    {
     "data": {
      "text/html": [
       "<div>\n",
       "<table border=\"1\" class=\"dataframe\">\n",
       "  <thead>\n",
       "    <tr style=\"text-align: right;\">\n",
       "      <th></th>\n",
       "      <th>Month</th>\n",
       "      <th>Tweet</th>\n",
       "    </tr>\n",
       "  </thead>\n",
       "  <tbody>\n",
       "    <tr>\n",
       "      <th>2785</th>\n",
       "      <td>Nov</td>\n",
       "      <td>ClickHole: Here are the swing states if they w...</td>\n",
       "    </tr>\n",
       "    <tr>\n",
       "      <th>1244</th>\n",
       "      <td>Feb</td>\n",
       "      <td>princess cruise https://t.co/FfnrKJiHsR</td>\n",
       "    </tr>\n",
       "    <tr>\n",
       "      <th>1675</th>\n",
       "      <td>Mar</td>\n",
       "      <td>#princess cruise drink prices aeron chair size b</td>\n",
       "    </tr>\n",
       "    <tr>\n",
       "      <th>468</th>\n",
       "      <td>Dec</td>\n",
       "      <td>Princess Cruise Lines' Illegal Ocean Dumping P...</td>\n",
       "    </tr>\n",
       "    <tr>\n",
       "      <th>113</th>\n",
       "      <td>Apr</td>\n",
       "      <td>Princess Cruises Fined $40 Million for Water P...</td>\n",
       "    </tr>\n",
       "    <tr>\n",
       "      <th>1123</th>\n",
       "      <td>Feb</td>\n",
       "      <td>Majestic Princess: https://t.co/AkNLfVxyad Pri...</td>\n",
       "    </tr>\n",
       "    <tr>\n",
       "      <th>275</th>\n",
       "      <td>Dec</td>\n",
       "      <td>Read This! Princess Cruise Passenger Sues for ...</td>\n",
       "    </tr>\n",
       "    <tr>\n",
       "      <th>1011</th>\n",
       "      <td>Dec</td>\n",
       "      <td>Carnival's #Princess Cruise Line to Pay \"Large...</td>\n",
       "    </tr>\n",
       "    <tr>\n",
       "      <th>192</th>\n",
       "      <td>Apr</td>\n",
       "      <td>Did the Easter Bunny Bring You A \"Princess\" Cr...</td>\n",
       "    </tr>\n",
       "    <tr>\n",
       "      <th>470</th>\n",
       "      <td>Dec</td>\n",
       "      <td>New story on NPR: Princess Cruise Lines' Illeg...</td>\n",
       "    </tr>\n",
       "  </tbody>\n",
       "</table>\n",
       "</div>"
      ],
      "text/plain": [
       "     Month                                              Tweet\n",
       "2785   Nov  ClickHole: Here are the swing states if they w...\n",
       "1244   Feb            princess cruise https://t.co/FfnrKJiHsR\n",
       "1675   Mar   #princess cruise drink prices aeron chair size b\n",
       "468    Dec  Princess Cruise Lines' Illegal Ocean Dumping P...\n",
       "113    Apr  Princess Cruises Fined $40 Million for Water P...\n",
       "1123   Feb  Majestic Princess: https://t.co/AkNLfVxyad Pri...\n",
       "275    Dec  Read This! Princess Cruise Passenger Sues for ...\n",
       "1011   Dec  Carnival's #Princess Cruise Line to Pay \"Large...\n",
       "192    Apr  Did the Easter Bunny Bring You A \"Princess\" Cr...\n",
       "470    Dec  New story on NPR: Princess Cruise Lines' Illeg..."
      ]
     },
     "execution_count": 74,
     "metadata": {
      "tags": []
     },
     "output_type": "execute_result"
    }
   ],
   "source": [
    "#Viewing sample tweets\n",
    "df.sample(10)"
   ]
  },
  {
   "cell_type": "code",
   "execution_count": null,
   "metadata": {
    "colab": {},
    "colab_type": "code",
    "id": "4Trj1gtZrRk7"
   },
   "outputs": [],
   "source": [
    "#Import Vader sentiment package for  Sentiment analysis\n",
    "from vaderSentiment.vaderSentiment import SentimentIntensityAnalyzer\n",
    "analyzer = SentimentIntensityAnalyzer()"
   ]
  },
  {
   "cell_type": "code",
   "execution_count": null,
   "metadata": {
    "colab": {},
    "colab_type": "code",
    "id": "_sMfsAEZrRlD"
   },
   "outputs": [],
   "source": [
    "#Encoding to uncode format to avoid any errors due to format of tweets/emojis\n",
    "df.Tweet=df.Tweet.map(lambda x:str(x).encode('utf-8'))"
   ]
  },
  {
   "cell_type": "code",
   "execution_count": null,
   "metadata": {
    "colab": {},
    "colab_type": "code",
    "id": "4uAQadulrRlN"
   },
   "outputs": [],
   "source": [
    "#Sentiment Analysis\n",
    "emptyline=[]\n",
    "for row in df['Tweet']:\n",
    "    vs=analyzer.polarity_scores(row)\n",
    "    emptyline.append(vs)\n",
    "#creating new dataframe with sentiments    \n",
    "d=pd.DataFrame(emptyline)"
   ]
  },
  {
   "cell_type": "code",
   "execution_count": null,
   "metadata": {
    "colab": {},
    "colab_type": "code",
    "id": "fI7KaOSWrRlV"
   },
   "outputs": [],
   "source": [
    "#Concatenating two dataframes to merge sentiment scores to respective tweets\n",
    "df_c = pd.concat([df.reset_index(drop=True), d], axis=1)\n"
   ]
  },
  {
   "cell_type": "code",
   "execution_count": null,
   "metadata": {
    "colab": {},
    "colab_type": "code",
    "id": "Lio9I3CGrRla",
    "outputId": "45240a18-6057-444c-bcf4-9d4c8a0c1c39"
   },
   "outputs": [
    {
     "data": {
      "text/html": [
       "<div>\n",
       "<table border=\"1\" class=\"dataframe\">\n",
       "  <thead>\n",
       "    <tr style=\"text-align: right;\">\n",
       "      <th></th>\n",
       "      <th>Month</th>\n",
       "      <th>Tweet</th>\n",
       "      <th>compound</th>\n",
       "      <th>neg</th>\n",
       "      <th>neu</th>\n",
       "      <th>pos</th>\n",
       "    </tr>\n",
       "  </thead>\n",
       "  <tbody>\n",
       "    <tr>\n",
       "      <th>0</th>\n",
       "      <td>Apr</td>\n",
       "      <td>RT @LittleDebbie: Imagine the wind in your hai...</td>\n",
       "      <td>0.7263</td>\n",
       "      <td>0.0</td>\n",
       "      <td>0.747</td>\n",
       "      <td>0.253</td>\n",
       "    </tr>\n",
       "    <tr>\n",
       "      <th>1</th>\n",
       "      <td>Apr</td>\n",
       "      <td>RT https://t.co/gmXmbulPtl This Week in #Trave...</td>\n",
       "      <td>0.0000</td>\n",
       "      <td>0.0</td>\n",
       "      <td>1.000</td>\n",
       "      <td>0.000</td>\n",
       "    </tr>\n",
       "    <tr>\n",
       "      <th>2</th>\n",
       "      <td>Apr</td>\n",
       "      <td>Win a $2 000 Princess #Cruise Lines Gift Card ...</td>\n",
       "      <td>0.7901</td>\n",
       "      <td>0.0</td>\n",
       "      <td>0.696</td>\n",
       "      <td>0.304</td>\n",
       "    </tr>\n",
       "    <tr>\n",
       "      <th>3</th>\n",
       "      <td>Apr</td>\n",
       "      <td>@CruiseHabit @paulhewittcom Princess cruise line</td>\n",
       "      <td>0.0000</td>\n",
       "      <td>0.0</td>\n",
       "      <td>1.000</td>\n",
       "      <td>0.000</td>\n",
       "    </tr>\n",
       "    <tr>\n",
       "      <th>4</th>\n",
       "      <td>Apr</td>\n",
       "      <td>It's all about Education ~ Ship Tour of the Ru...</td>\n",
       "      <td>0.0000</td>\n",
       "      <td>0.0</td>\n",
       "      <td>1.000</td>\n",
       "      <td>0.000</td>\n",
       "    </tr>\n",
       "  </tbody>\n",
       "</table>\n",
       "</div>"
      ],
      "text/plain": [
       "  Month                                              Tweet  compound  neg  \\\n",
       "0   Apr  RT @LittleDebbie: Imagine the wind in your hai...    0.7263  0.0   \n",
       "1   Apr  RT https://t.co/gmXmbulPtl This Week in #Trave...    0.0000  0.0   \n",
       "2   Apr  Win a $2 000 Princess #Cruise Lines Gift Card ...    0.7901  0.0   \n",
       "3   Apr   @CruiseHabit @paulhewittcom Princess cruise line    0.0000  0.0   \n",
       "4   Apr  It's all about Education ~ Ship Tour of the Ru...    0.0000  0.0   \n",
       "\n",
       "     neu    pos  \n",
       "0  0.747  0.253  \n",
       "1  1.000  0.000  \n",
       "2  0.696  0.304  \n",
       "3  1.000  0.000  \n",
       "4  1.000  0.000  "
      ]
     },
     "execution_count": 79,
     "metadata": {
      "tags": []
     },
     "output_type": "execute_result"
    }
   ],
   "source": [
    "#examine the new dataframe\n",
    "df_c.head()"
   ]
  },
  {
   "cell_type": "code",
   "execution_count": null,
   "metadata": {
    "colab": {},
    "colab_type": "code",
    "id": "UXWVdZeIrRld"
   },
   "outputs": [],
   "source": [
    "#Adding new column to new dataframe to mark positive and negative tweets\n",
    "df_c['Sentiment'] = np.where(df_c['compound'] >= 0 , 'Positive', 'Negative')\n"
   ]
  },
  {
   "cell_type": "code",
   "execution_count": null,
   "metadata": {
    "colab": {},
    "colab_type": "code",
    "id": "Gu7Hsgv5rRlg",
    "outputId": "fb4d4020-bd82-4333-8c37-1dab758c146d"
   },
   "outputs": [
    {
     "data": {
      "text/html": [
       "<div>\n",
       "<table border=\"1\" class=\"dataframe\">\n",
       "  <thead>\n",
       "    <tr style=\"text-align: right;\">\n",
       "      <th></th>\n",
       "      <th>Month</th>\n",
       "      <th>Tweet</th>\n",
       "      <th>compound</th>\n",
       "      <th>neg</th>\n",
       "      <th>neu</th>\n",
       "      <th>pos</th>\n",
       "      <th>Sentiment</th>\n",
       "    </tr>\n",
       "  </thead>\n",
       "  <tbody>\n",
       "    <tr>\n",
       "      <th>1958</th>\n",
       "      <td>May</td>\n",
       "      <td>Retweet Jack Rogers is giving away summer geta...</td>\n",
       "      <td>0.6908</td>\n",
       "      <td>0.000</td>\n",
       "      <td>0.759</td>\n",
       "      <td>0.241</td>\n",
       "      <td>Positive</td>\n",
       "    </tr>\n",
       "    <tr>\n",
       "      <th>2437</th>\n",
       "      <td>Sep</td>\n",
       "      <td>Dear princess cruise lines-- stop sending me c...</td>\n",
       "      <td>0.3769</td>\n",
       "      <td>0.085</td>\n",
       "      <td>0.731</td>\n",
       "      <td>0.184</td>\n",
       "      <td>Positive</td>\n",
       "    </tr>\n",
       "    <tr>\n",
       "      <th>2294</th>\n",
       "      <td>Aug</td>\n",
       "      <td>25 Tips for Cruising on Princess Cruise Ships ...</td>\n",
       "      <td>0.0000</td>\n",
       "      <td>0.000</td>\n",
       "      <td>1.000</td>\n",
       "      <td>0.000</td>\n",
       "      <td>Positive</td>\n",
       "    </tr>\n",
       "    <tr>\n",
       "      <th>2353</th>\n",
       "      <td>Aug</td>\n",
       "      <td>RT https://t.co/bkhj8noRuF ON SALE: 33 Night P...</td>\n",
       "      <td>0.0000</td>\n",
       "      <td>0.000</td>\n",
       "      <td>1.000</td>\n",
       "      <td>0.000</td>\n",
       "      <td>Positive</td>\n",
       "    </tr>\n",
       "    <tr>\n",
       "      <th>2001</th>\n",
       "      <td>July</td>\n",
       "      <td>Cruise Bruise: Regal Princess #cruise ship pas...</td>\n",
       "      <td>-0.5994</td>\n",
       "      <td>0.245</td>\n",
       "      <td>0.755</td>\n",
       "      <td>0.000</td>\n",
       "      <td>Negative</td>\n",
       "    </tr>\n",
       "    <tr>\n",
       "      <th>1397</th>\n",
       "      <td>Jan</td>\n",
       "      <td>Win a Free Princess Cruise or a Game Prize Pac...</td>\n",
       "      <td>0.8932</td>\n",
       "      <td>0.000</td>\n",
       "      <td>0.428</td>\n",
       "      <td>0.572</td>\n",
       "      <td>Positive</td>\n",
       "    </tr>\n",
       "    <tr>\n",
       "      <th>2240</th>\n",
       "      <td>Aug</td>\n",
       "      <td>Home of The Florida Princess Cruise Ship (@ Su...</td>\n",
       "      <td>0.6808</td>\n",
       "      <td>0.000</td>\n",
       "      <td>0.714</td>\n",
       "      <td>0.286</td>\n",
       "      <td>Positive</td>\n",
       "    </tr>\n",
       "    <tr>\n",
       "      <th>1201</th>\n",
       "      <td>Feb</td>\n",
       "      <td>Filipino Crew Member Killed on Emerald Princes...</td>\n",
       "      <td>-0.6705</td>\n",
       "      <td>0.209</td>\n",
       "      <td>0.791</td>\n",
       "      <td>0.000</td>\n",
       "      <td>Negative</td>\n",
       "    </tr>\n",
       "    <tr>\n",
       "      <th>2542</th>\n",
       "      <td>Sep</td>\n",
       "      <td>Vintage Adjustable Princess Cruise Lines Dos E...</td>\n",
       "      <td>0.0000</td>\n",
       "      <td>0.000</td>\n",
       "      <td>1.000</td>\n",
       "      <td>0.000</td>\n",
       "      <td>Positive</td>\n",
       "    </tr>\n",
       "    <tr>\n",
       "      <th>1025</th>\n",
       "      <td>Dec</td>\n",
       "      <td>Princess cruise lines guilty of discharging oi...</td>\n",
       "      <td>-0.3400</td>\n",
       "      <td>0.257</td>\n",
       "      <td>0.596</td>\n",
       "      <td>0.147</td>\n",
       "      <td>Negative</td>\n",
       "    </tr>\n",
       "  </tbody>\n",
       "</table>\n",
       "</div>"
      ],
      "text/plain": [
       "     Month                                              Tweet  compound  \\\n",
       "1958   May  Retweet Jack Rogers is giving away summer geta...    0.6908   \n",
       "2437   Sep  Dear princess cruise lines-- stop sending me c...    0.3769   \n",
       "2294   Aug  25 Tips for Cruising on Princess Cruise Ships ...    0.0000   \n",
       "2353   Aug  RT https://t.co/bkhj8noRuF ON SALE: 33 Night P...    0.0000   \n",
       "2001  July  Cruise Bruise: Regal Princess #cruise ship pas...   -0.5994   \n",
       "1397   Jan  Win a Free Princess Cruise or a Game Prize Pac...    0.8932   \n",
       "2240   Aug  Home of The Florida Princess Cruise Ship (@ Su...    0.6808   \n",
       "1201   Feb  Filipino Crew Member Killed on Emerald Princes...   -0.6705   \n",
       "2542   Sep  Vintage Adjustable Princess Cruise Lines Dos E...    0.0000   \n",
       "1025   Dec  Princess cruise lines guilty of discharging oi...   -0.3400   \n",
       "\n",
       "        neg    neu    pos Sentiment  \n",
       "1958  0.000  0.759  0.241  Positive  \n",
       "2437  0.085  0.731  0.184  Positive  \n",
       "2294  0.000  1.000  0.000  Positive  \n",
       "2353  0.000  1.000  0.000  Positive  \n",
       "2001  0.245  0.755  0.000  Negative  \n",
       "1397  0.000  0.428  0.572  Positive  \n",
       "2240  0.000  0.714  0.286  Positive  \n",
       "1201  0.209  0.791  0.000  Negative  \n",
       "2542  0.000  1.000  0.000  Positive  \n",
       "1025  0.257  0.596  0.147  Negative  "
      ]
     },
     "execution_count": 85,
     "metadata": {
      "tags": []
     },
     "output_type": "execute_result"
    }
   ],
   "source": [
    "#examine the new column\n",
    "df_c.sample(10)"
   ]
  },
  {
   "cell_type": "code",
   "execution_count": null,
   "metadata": {
    "colab": {},
    "colab_type": "code",
    "id": "FJEzThhPrRlk"
   },
   "outputs": [],
   "source": [
    "#Creating a dictionary to map months for viewing month wise sentiments\n",
    "Month_dict = {'Jan' : 7, 'Feb' :8, 'Mar' : 9, 'Apr' : 10, 'May' : 11, 'Jun' : 12, 'July' : 1, 'Aug' : 2, 'Sep' : 3 , 'Oct' : 4 , 'Nov' : 5, 'Dec' : 6}"
   ]
  },
  {
   "cell_type": "code",
   "execution_count": null,
   "metadata": {
    "colab": {},
    "colab_type": "code",
    "id": "P_-kt9avrRlo",
    "outputId": "7632a54a-acfc-4b29-9c7d-5c40830ad827"
   },
   "outputs": [
    {
     "data": {
      "image/png": "[encoded data removed]",
      "text/plain": [
       "<matplotlib.figure.Figure at 0xcec51b0>"
      ]
     },
     "metadata": {
      "tags": []
     },
     "output_type": "display_data"
    }
   ],
   "source": [
    "#Plotting the sentiment Chart\n",
    "result=df_c.groupby('Month')['Sentiment'].value_counts().unstack()\n",
    "result['Month_Numeric'] = result.index.map(lambda x : Month_dict[x])\n",
    "result = result.sort_values('Month_Numeric')\n",
    "result[['Negative','Positive']].plot(kind='bar', rot=0,color='rb');"
   ]
  },
  {
   "cell_type": "markdown",
   "metadata": {
    "colab_type": "text",
    "id": "f3J3IJdhrRls"
   },
   "source": [
    "## Decemeber Month has seen the highest number of negative tweets\n",
    "\n",
    "### We will explore Dec Month tweets again to figure out Topics of negative sentiments"
   ]
  },
  {
   "cell_type": "code",
   "execution_count": null,
   "metadata": {
    "colab": {},
    "colab_type": "code",
    "id": "a0_rVEAgrRls"
   },
   "outputs": [],
   "source": []
  }
 ],
 "metadata": {
  "colab": {
   "name": "NG_PS_Sentiment_Analysis_unlabelled.ipynb",
   "provenance": []
  },
  "kernelspec": {
   "display_name": "Python 3",
   "language": "python",
   "name": "python3"
  },
  "language_info": {
   "codemirror_mode": {
    "name": "ipython",
    "version": 3
   },
   "file_extension": ".py",
   "mimetype": "text/x-python",
   "name": "python",
   "nbconvert_exporter": "python",
   "pygments_lexer": "ipython3",
   "version": "3.7.6"
  }
 },
 "nbformat": 4,
 "nbformat_minor": 1
}
